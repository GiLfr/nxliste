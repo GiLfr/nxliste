{
 "cells": [
  {
   "cell_type": "code",
   "execution_count": 9,
   "metadata": {},
   "outputs": [],
   "source": [
    "# import re\n",
    "import colorama\n",
    "import coloredlogs\n",
    "import logging\n",
    "# import numpy as np\n",
    "import pandas as pd\n",
    "import pathlib\n",
    "import shutil\n",
    "import xlsxwriter\n",
    "from bs4 import BeautifulSoup\n",
    "from termcolor import colored\n",
    "# from pathlib import Path\n",
    "import os\n",
    "import datetime"
   ]
  },
  {
   "cell_type": "code",
   "execution_count": 21,
   "metadata": {},
   "outputs": [
    {
     "name": "stdout",
     "output_type": "stream",
     "text": [
      "2023\n"
     ]
    }
   ],
   "source": [
    "current_time = datetime.datetime.now()\n",
    "timestamp_wp = current_time.timestamp()\n",
    "timestamp = str(timestamp_wp).replace(\".\", \"_\")\n",
    "annee_courante = current_time.strftime('%Y')\n",
    "\n",
    "colorama.init()\n",
    "logger = logging.getLogger(__name__)\n",
    "coloredlogs.install(level='DEBUG')"
   ]
  },
  {
   "cell_type": "code",
   "execution_count": 11,
   "metadata": {},
   "outputs": [],
   "source": [
    "# logger.debug(\"this is a debugging message\")\n",
    "# logger.info(\"this is an informational message\")\n",
    "# logger.warning(\"this is a warning message\")\n",
    "# logger.error(\"this is an error message\")\n",
    "# logger.critical(\"this is a critical message\")\n",
    "\n",
    "# class bcolors:\n",
    "#     HEADER = '\\033[95m'\n",
    "#     OKBLUE = '\\033[94m'\n",
    "#     OKCYAN = '\\033[96m'\n",
    "#     OKGREEN = '\\033[92m'\n",
    "#     WARNING = '\\033[93m'\n",
    "#     FAIL = '\\033[91m'\n",
    "#     ENDC = '\\033[0m'\n",
    "#     BOLD = '\\033[1m'\n",
    "#     UNDERLINE = '\\033[4m'"
   ]
  },
  {
   "cell_type": "code",
   "execution_count": 12,
   "metadata": {},
   "outputs": [],
   "source": [
    "nxfile = pathlib.Path(\"Netflix.html\")\n",
    "if not nxfile.exists():\n",
    "    logger.info(\"Pas de fichier Netflix.html à traiter !\")\n",
    "    # raise TypeError(\"Pas de fichier Netflix.html à traiter !\")  # Provoque une erreur\n",
    "    # raise SystemExit()                                          # Provoque une erreur\n",
    "    quit(0)"
   ]
  },
  {
   "cell_type": "code",
   "execution_count": 13,
   "metadata": {},
   "outputs": [],
   "source": [
    "# html = open('maListeNetflix.html','r')\n",
    "# html = open('test.html','r')\n",
    "\n",
    "dfi = pd.read_excel('maListeNetflix.xlsx', index_col=None, sheet_name='Liste', usecols='A:L')\n",
    "# dfi = pd.read_excel('maListeNetflix.xlsx', index_col=None, sheet_name='Liste', usecols = \"B,C\")"
   ]
  },
  {
   "cell_type": "code",
   "execution_count": 14,
   "metadata": {},
   "outputs": [],
   "source": [
    "html = open('Netflix.html', 'r', encoding=\"utf8\")"
   ]
  },
  {
   "cell_type": "code",
   "execution_count": 15,
   "metadata": {},
   "outputs": [],
   "source": [
    "soup = BeautifulSoup(html, 'html.parser')\n",
    "m1 = soup.findAll('p', {'class': 'fallback-text'})\n",
    "\n",
    "soup2 = BeautifulSoup(html, 'lxml')\n",
    "lines = soup.findAll('div', attrs={'class': 'rowContainer rowContainer_title_card'}, limit=None)\n",
    "# data = [[x.text for x in y.findAll('p', {'class': 'fallback-text'},limit=None)] for y in lines]\n",
    "data = [x.text for x in soup.findAll('p', {'class': 'fallback-text'}, limit=None)]\n",
    "# vign = [y['src'].split(\"/\")[-1] for y in soup.findAll('img', {'class': 'boxart-image-in-padded-container'}, limit=None)]\n",
    "vign = [pathlib.Path(y['src']).name for y in soup.findAll('img', {'class': 'boxart-image-in-padded-container'}, limit=None)]\n",
    "\n",
    "dfn = pd.DataFrame(data, columns=['Titre'])\n",
    "dfn['Vignette'] = pd.DataFrame(vign)\n",
    "\n",
    "# dfs = df.sort_values(by='Titre')\n",
    "\n",
    "# print(dfi)\n",
    "# print(dfn)"
   ]
  },
  {
   "cell_type": "code",
   "execution_count": 16,
   "metadata": {},
   "outputs": [],
   "source": [
    "dfd = dfi.merge(dfn, on='Titre', how='outer', indicator=True).loc[lambda x: x['_merge'] == 'right_only']\n",
    "dfr = dfd.drop(columns=['Unnamed: 0', 'Vignette_x', 'Type', 'Origine', 'Sortie', 'Saison',\n",
    "                        'Episodes', 'Note', 'FinVisionnage', 'Deadline', 'F-Commentaire', '_merge'])\n",
    "dfr[\"Type\"] = \"Série\"\n",
    "dfr[\"Origine\"] = \"Corée du Sud\"\n",
    "dfr[\"Sortie\"] = annee_courante\n",
    "dfr[\"Saison\"] = \"1\"\n",
    "dfr[\"Episodes\"] = \"16\"\n",
    "dfr[\"Note\"] = \"à voir...\"\n",
    "dfr[\"FinVisionnage\"] = \"\"\n",
    "dfr[\"Deadline\"] = \"\"\n",
    "dfr[\"F-Commentaire\"] = \"!CONTROL INFOS!\"\n",
    "# print(dfr)\n",
    "# print(\"# nouveauté: \", len(dfr.index))\n",
    "# dfr = df.compare(dfi)\n",
    "# dfr = pd.merge(df, dfi, how=\"inner\", on=[\"Titre\", \"Vignette\"])"
   ]
  },
  {
   "cell_type": "code",
   "execution_count": 17,
   "metadata": {},
   "outputs": [
    {
     "name": "stderr",
     "output_type": "stream",
     "text": [
      "2023-02-11 18:12:49 GiL8S __main__[7912] INFO Copie de 13 Vignettes\n"
     ]
    }
   ],
   "source": [
    "# Copie des nouvelles vignettes\n",
    "newname_vignette = []\n",
    "try:\n",
    "    for image in dfr['Vignette_y']:\n",
    "        path = pathlib.Path(image)\n",
    "        img_name = os.path.splitext(path.stem)[0]\n",
    "        img_ext = path.suffix\n",
    "        newname = img_name[:30] + \"_\" + timestamp + img_ext\n",
    "        nvFichier = shutil.copy('Netflix_files/'+image, 'docs/images/nx/'+newname)\n",
    "        newname_vignette.append(newname)\n",
    "    logger.info(\"Copie de {} Vignettes\".format(len(dfr.index)))\n",
    "except FileExistsError:\n",
    "    logger.error(\"Erreur sur fichier dans la copie des Vignettes\")\n",
    "except:\n",
    "    logger.error(\"Erreur inconnue dans la copie des Vignettes\")"
   ]
  },
  {
   "cell_type": "code",
   "execution_count": 25,
   "metadata": {},
   "outputs": [],
   "source": [
    "# dfr['Vignette_y'] = pd.DataFrame(newname_vignette)\n",
    "dfr['Vignette_y'] = newname_vignette\n",
    "\n",
    "# Boucle sur les nouveautés (à ajouter dans la liste)\n",
    "# for index, row in dfd.iterrows():\n",
    "#     print(\"Titre: \",row[\"Titre\"])\n",
    "#     print(\"Vignette: \",row[\"Vignette_y\"])"
   ]
  },
  {
   "cell_type": "code",
   "execution_count": null,
   "metadata": {},
   "outputs": [],
   "source": [
    "# OLD VERSION\n",
    "# # Writing the data into the excel sheet\n",
    "# writer_obj = pd.ExcelWriter('deltaNetflix.xlsx',\n",
    "#                             engine='xlsxwriter')\n",
    "# dfr.to_excel(writer_obj, sheet_name='delta')\n",
    "# writer_obj.save()"
   ]
  },
  {
   "cell_type": "code",
   "execution_count": null,
   "metadata": {},
   "outputs": [],
   "source": [
    "dfr.fillna(value='', inplace=True)"
   ]
  },
  {
   "cell_type": "code",
   "execution_count": 67,
   "metadata": {},
   "outputs": [
    {
     "name": "stderr",
     "output_type": "stream",
     "text": [
      "2023-02-11 18:00:55 GiL8S __main__[15248] INFO Stocker dans le fichier deltaNetflix.xlsx\n"
     ]
    },
    {
     "name": "stdout",
     "output_type": "stream",
     "text": [
      "Success!\n"
     ]
    }
   ],
   "source": [
    "# NEW VERSION\n",
    "with pd.ExcelWriter('deltaNetflix.xlsx') as writer:\n",
    "    dfr.to_excel(writer, sheet_name='delta')\n",
    "\n",
    "\n",
    "# print(bcolors.HEADER + 'Regarder le fichier deltaNetflix.xlsx.'+bcolors.ENDC)\n",
    "# print(colored('Regarder le fichier deltaNetflix.xlsx.','green', attrs=['reverse', 'blink']))\n",
    "logger.info(\"Stocker dans le fichier deltaNetflix.xlsx\")\n",
    "print('\\x1b[6;30;42m' + 'Success!' + '\\x1b[0m')"
   ]
  }
 ],
 "metadata": {
  "kernelspec": {
   "display_name": ".venv",
   "language": "python",
   "name": "python3"
  },
  "language_info": {
   "codemirror_mode": {
    "name": "ipython",
    "version": 3
   },
   "file_extension": ".py",
   "mimetype": "text/x-python",
   "name": "python",
   "nbconvert_exporter": "python",
   "pygments_lexer": "ipython3",
   "version": "3.10.8"
  },
  "orig_nbformat": 4,
  "vscode": {
   "interpreter": {
    "hash": "454688039c6d24495e6e8919ef53e7dd8c0584e8ca455a36172d4699b4d3b060"
   }
  }
 },
 "nbformat": 4,
 "nbformat_minor": 2
}
